{
 "metadata": {
  "name": ""
 },
 "nbformat": 3,
 "nbformat_minor": 0,
 "worksheets": [
  {
   "cells": [
    {
     "cell_type": "heading",
     "level": 1,
     "metadata": {},
     "source": [
      "Pr\u00e1ctica 4. Caminantes aleatorios."
     ]
    },
    {
     "cell_type": "markdown",
     "metadata": {},
     "source": [
      "Una caminata (caminante) aleatoria  (aleatorio) simple sobre el conjunto de los enteros $\\mathbb{Z}$ es un proceso estoc\u00e1stico a tiempo discreto $\\left\\{ X_{n}\\,:\\, n\\geq0\\right\\} $  tal que:\n",
      "\n",
      "- Comienza en cero, es decir, $X_0=0$\n",
      "- Para toda n, $\\mathbb{P}(X_{n+1}=j\\,|\\, X_{n}=i)=\\begin{cases}\n",
      "p & si\\, j=i+1\\\\\n",
      "q & si\\, j=i-1\\\\\n",
      "0 & e.o.c\n",
      "\\end{cases}$\n",
      "\n",
      "Podemos definir un caminante aleatorio utilizando un conjunto de variables aleatorias independientes e id\u00e9nticamente distribuidas $\\xi_{1},\\ldots,\\,\\xi_{n}$. Tales que  $\\mathbb{P}(\\xi=+1)=p$, $\\mathbb{P}(\\xi=-1)=q$ y $p+q=1$\n",
      "\n",
      "Y el caminante estar\u00eda definido como\n",
      "\n",
      "$X_{n}:=X_{0}+\\xi_{1}+\\ldots+\\,\\xi_{n}$\n",
      " \n",
      "con $X_0=0$.\n"
     ]
    },
    {
     "cell_type": "markdown",
     "metadata": {},
     "source": [
      "En python existen distintas formas de implementar un caminante aleatorio.\n",
      "Sea $N$ el n\u00famero de pasos que queremos que d\u00e9 el caminante. Para determinar la direcci\u00f3n del caminante tomamos una v.a. con dist uniforme est\u00e1ndar"
     ]
    },
    {
     "cell_type": "code",
     "collapsed": false,
     "input": [
      "import numpy as np"
     ],
     "language": "python",
     "metadata": {},
     "outputs": [],
     "prompt_number": 4
    },
    {
     "cell_type": "code",
     "collapsed": false,
     "input": [
      "N = 10\n",
      "u = np.random.uniform(size=10)\n",
      "direccion = 2*(u < 0.5) - 1\n",
      "incremento = 1\n",
      "X = np.zeros(N)"
     ],
     "language": "python",
     "metadata": {},
     "outputs": [],
     "prompt_number": 53
    },
    {
     "cell_type": "code",
     "collapsed": false,
     "input": [
      "for j in xrange(1, N):\n",
      "    X[j] = X[j-1] + incremento * direccion[j]"
     ],
     "language": "python",
     "metadata": {},
     "outputs": [],
     "prompt_number": 54
    },
    {
     "cell_type": "code",
     "collapsed": false,
     "input": [
      "X"
     ],
     "language": "python",
     "metadata": {},
     "outputs": [
      {
       "metadata": {},
       "output_type": "pyout",
       "prompt_number": 58,
       "text": [
        "array([ 0., -1., -2., -1.,  0., -1., -2., -3., -2., -3.])"
       ]
      }
     ],
     "prompt_number": 58
    },
    {
     "cell_type": "code",
     "collapsed": false,
     "input": [
      "from matplotlib import pyplot as plt"
     ],
     "language": "python",
     "metadata": {},
     "outputs": [],
     "prompt_number": 51
    },
    {
     "cell_type": "code",
     "collapsed": false,
     "input": [
      "%matplotlib inline"
     ],
     "language": "python",
     "metadata": {},
     "outputs": [],
     "prompt_number": 60
    },
    {
     "cell_type": "code",
     "collapsed": false,
     "input": [
      "plt.plot(np.linspace(0, 10, 10), X)"
     ],
     "language": "python",
     "metadata": {},
     "outputs": [
      {
       "metadata": {},
       "output_type": "pyout",
       "prompt_number": 63,
       "text": [
        "[<matplotlib.lines.Line2D at 0x4687690>]"
       ]
      },
      {
       "metadata": {},
       "output_type": "display_data",
       "png": "[encoded data removed]",
       "text": [
        "<matplotlib.figure.Figure at 0x46c6ad0>"
       ]
      }
     ],
     "prompt_number": 63
    },
    {
     "cell_type": "code",
     "collapsed": false,
     "input": [
      "def caminante1D(N, inc):\n",
      "    u = np.random.uniform(size=N)\n",
      "    direccion = 2*(u < 0.5) - 1\n",
      "    incremento = inc\n",
      "    X = np.zeros(N)\n",
      "    for j in xrange(1, N):\n",
      "        X[j] = X[j-1] + incremento * direccion[j]\n",
      "    plt.plot(np.linspace(0, N, N), X)"
     ],
     "language": "python",
     "metadata": {},
     "outputs": [],
     "prompt_number": 64
    },
    {
     "cell_type": "code",
     "collapsed": false,
     "input": [
      "caminante1D(100, 1)"
     ],
     "language": "python",
     "metadata": {},
     "outputs": [
      {
       "metadata": {},
       "output_type": "display_data",
       "png": "[encoded data removed]",
       "text": [
        "<matplotlib.figure.Figure at 0x4bb33d0>"
       ]
      }
     ],
     "prompt_number": 69
    },
    {
     "cell_type": "markdown",
     "metadata": {},
     "source": [
      "Tarea 1. Generar 1000 caminantes con una funci\u00f3n que guarde las trayectorias de cada uno y graficar algunas de esas trayectorias, digamos 5."
     ]
    },
    {
     "cell_type": "markdown",
     "metadata": {},
     "source": [
      "Tareita 2. \u00bfC\u00f3mo tendr\u00eda que ser un caminante 2 dimensional? Hint. Pensar que primero el caminante decide ir hacia arriba o abajo y luego decide si va desde izquierda a derecha."
     ]
    }
   ],
   "metadata": {}
  }
 ]
}