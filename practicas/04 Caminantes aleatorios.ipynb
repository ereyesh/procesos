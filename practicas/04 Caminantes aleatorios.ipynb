{
 "metadata": {
  "name": ""
 },
 "nbformat": 3,
 "nbformat_minor": 0,
 "worksheets": [
  {
   "cells": [
    {
     "cell_type": "heading",
     "level": 1,
     "metadata": {},
     "source": [
      "Pr\u00e1ctica 4. Caminantes aleatorios."
     ]
    },
    {
     "cell_type": "markdown",
     "metadata": {},
     "source": [
      "Una caminata (caminante) aleatoria  (aleatorio) simple sobre el conjunto de los enteros $\\mathbb{Z}$ es un proceso estoc\u00e1stico a tiempo discreto $\\left\\{ X_{n}\\,:\\, n\\geq0\\right\\} $  tal que:\n",
      "\n",
      "- Comienza en cero, es decir, $X_0=0$\n",
      "- Para toda n, $\\mathbb{P}(X_{n+1}=j\\,|\\, X_{n}=i)=\\begin{cases}\n",
      "p & si\\, j=i+1\\\\\n",
      "q & si\\, j=i-1\\\\\n",
      "0 & e.o.c\n",
      "\\end{cases}$\n",
      "\n",
      "Podemos definir un caminante aleatorio utilizando un conjunto de variables aleatorias independientes e id\u00e9nticamente distribuidas $\\xi_{1},\\ldots,\\,\\xi_{n}$. Tales que  $\\mathbb{P}(\\xi=+1)=p$, $\\mathbb{P}(\\xi=-1)=q$ y $p+q=1$\n",
      "\n",
      "Y el caminante estar\u00eda definido como\n",
      "\n",
      "$X_{n}:=X_{0}+\\xi_{1}+\\ldots+\\,\\xi_{n}$\n",
      " \n",
      "con $X_0=0$.\n"
     ]
    },
    {
     "cell_type": "markdown",
     "metadata": {},
     "source": [
      "En python existen distintas formas de implementar un caminante aleatorio.\n",
      "Sea $N$ el n\u00famero de pasos que queremos que d\u00e9 el caminante. Para determinar la direcci\u00f3n del caminante tomamos una v.a. con dist uniforme est\u00e1ndar"
     ]
    },
    {
     "cell_type": "code",
     "collapsed": false,
     "input": [
      "import numpy as np"
     ],
     "language": "python",
     "metadata": {},
     "outputs": [],
     "prompt_number": 4
    },
    {
     "cell_type": "code",
     "collapsed": false,
     "input": [
      "N = 10\n",
      "u = np.random.uniform(size=10)\n",
      "direccion = 2*(u < 0.5) - 1\n",
      "incremento = 1\n",
      "X = np.zeros(N)"
     ],
     "language": "python",
     "metadata": {},
     "outputs": [],
     "prompt_number": 5
    },
    {
     "cell_type": "code",
     "collapsed": false,
     "input": [
      "for j in xrange(1, N):\n",
      "    X[j] = X[j-1] + incremento * direccion[j]"
     ],
     "language": "python",
     "metadata": {},
     "outputs": [],
     "prompt_number": 6
    },
    {
     "cell_type": "code",
     "collapsed": false,
     "input": [
      "X"
     ],
     "language": "python",
     "metadata": {},
     "outputs": [
      {
       "metadata": {},
       "output_type": "pyout",
       "prompt_number": 7,
       "text": [
        "array([ 0.,  1.,  0., -1., -2., -3., -4., -5., -6., -7.])"
       ]
      }
     ],
     "prompt_number": 7
    },
    {
     "cell_type": "code",
     "collapsed": false,
     "input": [
      "from matplotlib import pyplot as plt"
     ],
     "language": "python",
     "metadata": {},
     "outputs": [],
     "prompt_number": 8
    },
    {
     "cell_type": "code",
     "collapsed": false,
     "input": [
      "%matplotlib inline"
     ],
     "language": "python",
     "metadata": {},
     "outputs": [],
     "prompt_number": 9
    },
    {
     "cell_type": "code",
     "collapsed": false,
     "input": [
      "plt.plot(np.linspace(0, 10, 10), X)"
     ],
     "language": "python",
     "metadata": {},
     "outputs": [
      {
       "metadata": {},
       "output_type": "pyout",
       "prompt_number": 10,
       "text": [
        "[<matplotlib.lines.Line2D at 0x2f21d50>]"
       ]
      },
      {
       "metadata": {},
       "output_type": "display_data",
       "png": "[encoded data removed]",
       "text": [
        "<matplotlib.figure.Figure at 0x2eb9950>"
       ]
      }
     ],
     "prompt_number": 10
    },
    {
     "cell_type": "code",
     "collapsed": false,
     "input": [
      "def caminante1D(N, inc):\n",
      "    u = np.random.uniform(size=N)\n",
      "    direccion = 2*(u < 0.5) - 1\n",
      "    incremento = inc\n",
      "    X = np.zeros(N)\n",
      "    for j in xrange(1, N):\n",
      "        X[j] = X[j-1] + incremento * direccion[j]\n",
      "    plt.plot(np.linspace(0, N, N), X)"
     ],
     "language": "python",
     "metadata": {},
     "outputs": [],
     "prompt_number": 11
    },
    {
     "cell_type": "code",
     "collapsed": false,
     "input": [],
     "language": "python",
     "metadata": {},
     "outputs": [],
     "prompt_number": 11
    },
    {
     "cell_type": "code",
     "collapsed": false,
     "input": [
      "caminante1D(100, 1)"
     ],
     "language": "python",
     "metadata": {},
     "outputs": [
      {
       "metadata": {},
       "output_type": "display_data",
       "png": "[encoded data removed]",
       "text": [
        "<matplotlib.figure.Figure at 0x2f2f310>"
       ]
      }
     ],
     "prompt_number": 12
    },
    {
     "cell_type": "markdown",
     "metadata": {},
     "source": [
      "Tarea 1. Generar 1000 caminantes con una funci\u00f3n que guarde las trayectorias de cada uno y graficar algunas de esas trayectorias, digamos 5."
     ]
    },
    {
     "cell_type": "markdown",
     "metadata": {},
     "source": [
      "Tareita 2. \u00bfC\u00f3mo tendr\u00eda que ser un caminante 2 dimensional? Hint. Pensar que primero el caminante decide ir hacia arriba o abajo y luego decide si va desde izquierda a derecha."
     ]
    },
    {
     "cell_type": "heading",
     "level": 2,
     "metadata": {},
     "source": [
      "Aproximacion del Movimiento Browniano."
     ]
    },
    {
     "cell_type": "markdown",
     "metadata": {},
     "source": [
      "Pasos para simular un proceso de Wiener:\n",
      "\n",
      "1. Fijar el intervalo de tiempo en el cual vamos a simular. T=1. Fijamos que W(0)=0.\n",
      "2. Elegimos el numero de pasos a simular del proceso. N = 10\n",
      "3. Generamos N variables aleatorias i.i.d, xi_i para i=1,...,N tomadas uniformemente del conjunto {-1, 1}.\n",
      "4. Determinamos la posicion del proceso en cada instante de tiempo Delta_t a traves de la suma W_nDelta_t = Sqrt(Delta)\n",
      "5. Graficar las realizamos del proceso (kDelta_t, W_nDelta_t)."
     ]
    },
    {
     "cell_type": "code",
     "collapsed": false,
     "input": [
      "import numpy as np\n",
      "from numpy import random"
     ],
     "language": "python",
     "metadata": {},
     "outputs": [],
     "prompt_number": 13
    },
    {
     "cell_type": "code",
     "collapsed": false,
     "input": [
      "T = 1\n",
      "N = 10"
     ],
     "language": "python",
     "metadata": {},
     "outputs": [],
     "prompt_number": 14
    },
    {
     "cell_type": "code",
     "collapsed": false,
     "input": [
      "W = np.zeros(N)\n",
      "W"
     ],
     "language": "python",
     "metadata": {},
     "outputs": [
      {
       "metadata": {},
       "output_type": "pyout",
       "prompt_number": 15,
       "text": [
        "array([ 0.,  0.,  0.,  0.,  0.,  0.,  0.,  0.,  0.,  0.])"
       ]
      }
     ],
     "prompt_number": 15
    },
    {
     "cell_type": "code",
     "collapsed": false,
     "input": [
      "u = 2*(random.uniform()<0.5) - 1\n",
      "u"
     ],
     "language": "python",
     "metadata": {},
     "outputs": [
      {
       "metadata": {},
       "output_type": "pyout",
       "prompt_number": 16,
       "text": [
        "1"
       ]
      }
     ],
     "prompt_number": 16
    },
    {
     "cell_type": "code",
     "collapsed": false,
     "input": [
      "u = 2*(random.uniform(size=10)<0.5) - 1\n",
      "u"
     ],
     "language": "python",
     "metadata": {},
     "outputs": [
      {
       "metadata": {},
       "output_type": "pyout",
       "prompt_number": 17,
       "text": [
        "array([-1,  1,  1, -1, -1,  1,  1, -1, -1, -1])"
       ]
      }
     ],
     "prompt_number": 17
    },
    {
     "cell_type": "code",
     "collapsed": false,
     "input": [
      "delta_t = 1./N\n",
      "delta_t"
     ],
     "language": "python",
     "metadata": {},
     "outputs": [
      {
       "metadata": {},
       "output_type": "pyout",
       "prompt_number": 18,
       "text": [
        "0.1"
       ]
      }
     ],
     "prompt_number": 18
    },
    {
     "cell_type": "markdown",
     "metadata": {},
     "source": [
      "Generamos el proceso de Wienes como la suma de las v.a. xi's."
     ]
    },
    {
     "cell_type": "code",
     "collapsed": false,
     "input": [
      "for j in xrange(1, N):\n",
      "    W[j] = W[j-1] + np.sqrt(delta_t)*u[j]"
     ],
     "language": "python",
     "metadata": {},
     "outputs": [],
     "prompt_number": 19
    },
    {
     "cell_type": "code",
     "collapsed": false,
     "input": [
      "W"
     ],
     "language": "python",
     "metadata": {},
     "outputs": [
      {
       "metadata": {},
       "output_type": "pyout",
       "prompt_number": 20,
       "text": [
        "array([ 0.        ,  0.31622777,  0.63245553,  0.31622777,  0.        ,\n",
        "        0.31622777,  0.63245553,  0.31622777,  0.        , -0.31622777])"
       ]
      }
     ],
     "prompt_number": 20
    },
    {
     "cell_type": "code",
     "collapsed": false,
     "input": [
      "from matplotlib import pyplot as plt"
     ],
     "language": "python",
     "metadata": {},
     "outputs": [],
     "prompt_number": 21
    },
    {
     "cell_type": "code",
     "collapsed": false,
     "input": [
      "%matplotlib inline"
     ],
     "language": "python",
     "metadata": {},
     "outputs": [],
     "prompt_number": 22
    },
    {
     "cell_type": "code",
     "collapsed": false,
     "input": [
      "plt.plot(W)"
     ],
     "language": "python",
     "metadata": {},
     "outputs": [
      {
       "metadata": {},
       "output_type": "pyout",
       "prompt_number": 23,
       "text": [
        "[<matplotlib.lines.Line2D at 0x2f27f10>]"
       ]
      },
      {
       "metadata": {},
       "output_type": "display_data",
       "png": "[encoded data removed]",
       "text": [
        "<matplotlib.figure.Figure at 0x260dbd0>"
       ]
      }
     ],
     "prompt_number": 23
    },
    {
     "cell_type": "code",
     "collapsed": false,
     "input": [
      "N = 500\n",
      "W = np.zeros(N)\n",
      "u = 2*(random.uniform(size=N)<0.5) - 1\n",
      "delta_t = 1./N"
     ],
     "language": "python",
     "metadata": {},
     "outputs": [],
     "prompt_number": 24
    },
    {
     "cell_type": "code",
     "collapsed": false,
     "input": [
      "for j in xrange(1, N):\n",
      "    W[j] = W[j-1] + np.sqrt(delta_t)*u[j]"
     ],
     "language": "python",
     "metadata": {},
     "outputs": [],
     "prompt_number": 25
    },
    {
     "cell_type": "code",
     "collapsed": false,
     "input": [
      "plt.plot(W)"
     ],
     "language": "python",
     "metadata": {},
     "outputs": [
      {
       "metadata": {},
       "output_type": "pyout",
       "prompt_number": 26,
       "text": [
        "[<matplotlib.lines.Line2D at 0x3411b90>]"
       ]
      },
      {
       "metadata": {},
       "output_type": "display_data",
       "png": "[encoded data removed]",
       "text": [
        "<matplotlib.figure.Figure at 0x3069110>"
       ]
      }
     ],
     "prompt_number": 26
    },
    {
     "cell_type": "code",
     "collapsed": false,
     "input": [
      "N = 500\n",
      "W = np.zeros(N)\n",
      "u = 2*(random.randn(N)<0) - 1\n",
      "delta_t = 1./N"
     ],
     "language": "python",
     "metadata": {},
     "outputs": [],
     "prompt_number": 27
    },
    {
     "cell_type": "code",
     "collapsed": false,
     "input": [
      "random.randn?"
     ],
     "language": "python",
     "metadata": {},
     "outputs": [],
     "prompt_number": 28
    },
    {
     "cell_type": "code",
     "collapsed": false,
     "input": [
      "for j in xrange(1, N):\n",
      "    W[j] = W[j-1] + np.sqrt(delta_t)*u[j]"
     ],
     "language": "python",
     "metadata": {},
     "outputs": [],
     "prompt_number": 29
    },
    {
     "cell_type": "code",
     "collapsed": false,
     "input": [
      "plt.plot(W)"
     ],
     "language": "python",
     "metadata": {},
     "outputs": [
      {
       "metadata": {},
       "output_type": "pyout",
       "prompt_number": 30,
       "text": [
        "[<matplotlib.lines.Line2D at 0x3440790>]"
       ]
      },
      {
       "metadata": {},
       "output_type": "display_data",
       "png": "[encoded data removed]",
       "text": [
        "<matplotlib.figure.Figure at 0x341fad0>"
       ]
      }
     ],
     "prompt_number": 30
    },
    {
     "cell_type": "code",
     "collapsed": false,
     "input": [],
     "language": "python",
     "metadata": {},
     "outputs": [],
     "prompt_number": 30
    }
   ],
   "metadata": {}
  }
 ]
}