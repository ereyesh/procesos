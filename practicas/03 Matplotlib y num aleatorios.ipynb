{
 "metadata": {
  "name": ""
 },
 "nbformat": 3,
 "nbformat_minor": 0,
 "worksheets": [
  {
   "cells": [
    {
     "cell_type": "heading",
     "level": 1,
     "metadata": {},
     "source": [
      "Pr\u00e1ctica 3. Matplotlib y n\u00fameros aleatorios."
     ]
    },
    {
     "cell_type": "markdown",
     "metadata": {},
     "source": [
      "En esta pr\u00e1ctica veremos las bases para poder hacer gr\u00e1ficos en la computadora usando python. Adem\u00e1s veremos c\u00f3mo podemos generar n\u00fameros aleatorios con distintas distribucions y sus histogramas."
     ]
    },
    {
     "cell_type": "heading",
     "level": 2,
     "metadata": {},
     "source": [
      "Matplotlib."
     ]
    },
    {
     "cell_type": "markdown",
     "metadata": {},
     "source": [
      "Es una librer\u00eda de python para crear gr\u00e1ficos totalmente ajustables a nuestras necesidades. Para empezar y que los gr\u00e1ficos aparezcan aqu\u00ed mismo en el notebook cargamos este comando:"
     ]
    },
    {
     "cell_type": "code",
     "collapsed": false,
     "input": [
      "%matplotlib inline"
     ],
     "language": "python",
     "metadata": {},
     "outputs": [],
     "prompt_number": 2
    },
    {
     "cell_type": "markdown",
     "metadata": {},
     "source": [
      "Si no funciona es porque no se cuenta instalado la \u00faltima versi\u00f3n de ipython, la 1.0, y ser\u00eda necesario ejecutar sin el primer #:"
     ]
    },
    {
     "cell_type": "code",
     "collapsed": false,
     "input": [
      "#%pylab"
     ],
     "language": "python",
     "metadata": {},
     "outputs": []
    },
    {
     "cell_type": "code",
     "collapsed": false,
     "input": [
      "from matplotlib import pyplot as plt"
     ],
     "language": "python",
     "metadata": {},
     "outputs": [],
     "prompt_number": 3
    },
    {
     "cell_type": "code",
     "collapsed": false,
     "input": [
      "import numpy as np"
     ],
     "language": "python",
     "metadata": {},
     "outputs": [],
     "prompt_number": 4
    },
    {
     "cell_type": "code",
     "collapsed": false,
     "input": [
      "x = np.linspace(-3., 3, 101)\n",
      "x"
     ],
     "language": "python",
     "metadata": {},
     "outputs": [
      {
       "metadata": {},
       "output_type": "pyout",
       "prompt_number": 5,
       "text": [
        "array([-3.  , -2.94, -2.88, -2.82, -2.76, -2.7 , -2.64, -2.58, -2.52,\n",
        "       -2.46, -2.4 , -2.34, -2.28, -2.22, -2.16, -2.1 , -2.04, -1.98,\n",
        "       -1.92, -1.86, -1.8 , -1.74, -1.68, -1.62, -1.56, -1.5 , -1.44,\n",
        "       -1.38, -1.32, -1.26, -1.2 , -1.14, -1.08, -1.02, -0.96, -0.9 ,\n",
        "       -0.84, -0.78, -0.72, -0.66, -0.6 , -0.54, -0.48, -0.42, -0.36,\n",
        "       -0.3 , -0.24, -0.18, -0.12, -0.06,  0.  ,  0.06,  0.12,  0.18,\n",
        "        0.24,  0.3 ,  0.36,  0.42,  0.48,  0.54,  0.6 ,  0.66,  0.72,\n",
        "        0.78,  0.84,  0.9 ,  0.96,  1.02,  1.08,  1.14,  1.2 ,  1.26,\n",
        "        1.32,  1.38,  1.44,  1.5 ,  1.56,  1.62,  1.68,  1.74,  1.8 ,\n",
        "        1.86,  1.92,  1.98,  2.04,  2.1 ,  2.16,  2.22,  2.28,  2.34,\n",
        "        2.4 ,  2.46,  2.52,  2.58,  2.64,  2.7 ,  2.76,  2.82,  2.88,\n",
        "        2.94,  3.  ])"
       ]
      }
     ],
     "prompt_number": 5
    },
    {
     "cell_type": "code",
     "collapsed": false,
     "input": [
      "y = [valor**2 for valor in x]\n",
      "y"
     ],
     "language": "python",
     "metadata": {},
     "outputs": [
      {
       "metadata": {},
       "output_type": "pyout",
       "prompt_number": 6,
       "text": [
        "[9.0,\n",
        " 8.6435999999999993,\n",
        " 8.2943999999999996,\n",
        " 7.952399999999999,\n",
        " 7.6175999999999986,\n",
        " 7.2900000000000009,\n",
        " 6.9696000000000007,\n",
        " 6.6564000000000005,\n",
        " 6.3504000000000005,\n",
        " 6.0515999999999996,\n",
        " 5.7599999999999998,\n",
        " 5.4755999999999991,\n",
        " 5.1984000000000012,\n",
        " 4.928399999999999,\n",
        " 4.6656000000000004,\n",
        " 4.4100000000000001,\n",
        " 4.1616,\n",
        " 3.9203999999999999,\n",
        " 3.6863999999999999,\n",
        " 3.4596000000000005,\n",
        " 3.2400000000000002,\n",
        " 3.0276000000000001,\n",
        " 2.8224000000000005,\n",
        " 2.6244000000000005,\n",
        " 2.4336000000000002,\n",
        " 2.25,\n",
        " 2.0735999999999999,\n",
        " 1.9044000000000003,\n",
        " 1.7424000000000002,\n",
        " 1.5876000000000001,\n",
        " 1.4400000000000004,\n",
        " 1.2996000000000003,\n",
        " 1.1664000000000001,\n",
        " 1.0404,\n",
        " 0.92159999999999997,\n",
        " 0.80999999999999983,\n",
        " 0.70559999999999978,\n",
        " 0.60840000000000038,\n",
        " 0.51840000000000031,\n",
        " 0.43560000000000021,\n",
        " 0.3600000000000001,\n",
        " 0.29160000000000003,\n",
        " 0.23039999999999999,\n",
        " 0.17639999999999995,\n",
        " 0.12960000000000024,\n",
        " 0.090000000000000163,\n",
        " 0.057600000000000103,\n",
        " 0.032400000000000061,\n",
        " 0.014400000000000026,\n",
        " 0.0036000000000000064,\n",
        " 0.0,\n",
        " 0.0036000000000000064,\n",
        " 0.014400000000000026,\n",
        " 0.032399999999999901,\n",
        " 0.057599999999999887,\n",
        " 0.0899999999999999,\n",
        " 0.12959999999999991,\n",
        " 0.17639999999999995,\n",
        " 0.23039999999999999,\n",
        " 0.29160000000000003,\n",
        " 0.3599999999999996,\n",
        " 0.4355999999999996,\n",
        " 0.51839999999999964,\n",
        " 0.60839999999999972,\n",
        " 0.70559999999999978,\n",
        " 0.80999999999999983,\n",
        " 0.92159999999999997,\n",
        " 1.0403999999999991,\n",
        " 1.1664000000000001,\n",
        " 1.2995999999999992,\n",
        " 1.4400000000000004,\n",
        " 1.5875999999999995,\n",
        " 1.7424000000000008,\n",
        " 1.9043999999999996,\n",
        " 2.0735999999999986,\n",
        " 2.25,\n",
        " 2.4335999999999989,\n",
        " 2.6244000000000005,\n",
        " 2.8223999999999991,\n",
        " 3.027600000000001,\n",
        " 3.2399999999999993,\n",
        " 3.4595999999999978,\n",
        " 3.6863999999999999,\n",
        " 3.9203999999999981,\n",
        " 4.1616,\n",
        " 4.4099999999999984,\n",
        " 4.6656000000000004,\n",
        " 4.928399999999999,\n",
        " 5.1983999999999968,\n",
        " 5.4755999999999991,\n",
        " 5.7599999999999971,\n",
        " 6.0515999999999996,\n",
        " 6.3503999999999978,\n",
        " 6.6564000000000005,\n",
        " 6.969599999999998,\n",
        " 7.2900000000000009,\n",
        " 7.6175999999999986,\n",
        " 7.9523999999999964,\n",
        " 8.2943999999999996,\n",
        " 8.6435999999999975,\n",
        " 9.0]"
       ]
      }
     ],
     "prompt_number": 6
    },
    {
     "cell_type": "code",
     "collapsed": false,
     "input": [
      "y = x**2\n",
      "print y[:10]"
     ],
     "language": "python",
     "metadata": {},
     "outputs": [
      {
       "output_type": "stream",
       "stream": "stdout",
       "text": [
        "[ 9.      8.6436  8.2944  7.9524  7.6176  7.29    6.9696  6.6564  6.3504\n",
        "  6.0516]\n"
       ]
      }
     ],
     "prompt_number": 7
    },
    {
     "cell_type": "markdown",
     "metadata": {},
     "source": [
      "Al trabajar con scripts es necesario definir la figura en la cual vamos a graficar. Digamos que inicializarla."
     ]
    },
    {
     "cell_type": "code",
     "collapsed": false,
     "input": [
      "fig, ax = plt.subplots()"
     ],
     "language": "python",
     "metadata": {},
     "outputs": [
      {
       "metadata": {},
       "output_type": "display_data",
       "png": "[encoded data removed]",
       "text": [
        "<matplotlib.figure.Figure at 0x2710190>"
       ]
      }
     ],
     "prompt_number": 12
    },
    {
     "cell_type": "code",
     "collapsed": false,
     "input": [
      "plt.plot(x, y)"
     ],
     "language": "python",
     "metadata": {},
     "outputs": [
      {
       "metadata": {},
       "output_type": "pyout",
       "prompt_number": 13,
       "text": [
        "[<matplotlib.lines.Line2D at 0x2975c90>]"
       ]
      },
      {
       "metadata": {},
       "output_type": "display_data",
       "png": "[encoded data removed]",
       "text": [
        "<matplotlib.figure.Figure at 0x2f01050>"
       ]
      }
     ],
     "prompt_number": 13
    },
    {
     "cell_type": "markdown",
     "metadata": {},
     "source": [
      "Cuando se trabaja desde un script hay que mostrar el gr\u00e1fico de forma manual."
     ]
    },
    {
     "cell_type": "code",
     "collapsed": false,
     "input": [
      "plt.show()"
     ],
     "language": "python",
     "metadata": {},
     "outputs": [],
     "prompt_number": 9
    },
    {
     "cell_type": "markdown",
     "metadata": {},
     "source": [
      "Personalizaci\u00f3n de gr\u00e1ficos"
     ]
    },
    {
     "cell_type": "code",
     "collapsed": false,
     "input": [
      "plt.xlabel(u\"$x=$ dominio\", fontsize = 20)\n",
      "plt.ylabel(u\"$y=$ contradominio\", fontsize = 20)\n",
      "plt.title(u\"Gr\u00e1fica de $y=x^2$\", fontsize = 25)\n",
      "plt.text(0.8, 0.8, u\"gr\u00e1fica\")"
     ],
     "language": "python",
     "metadata": {},
     "outputs": [
      {
       "metadata": {},
       "output_type": "pyout",
       "prompt_number": 21,
       "text": [
        "<matplotlib.text.Text at 0x3646150>"
       ]
      },
      {
       "metadata": {},
       "output_type": "display_data",
       "png": "[encoded data removed]",
       "text": [
        "<matplotlib.figure.Figure at 0x3646390>"
       ]
      }
     ],
     "prompt_number": 21
    },
    {
     "cell_type": "code",
     "collapsed": false,
     "input": [
      "plt.plot(x, y, 'o-')"
     ],
     "language": "python",
     "metadata": {},
     "outputs": [
      {
       "metadata": {},
       "output_type": "pyout",
       "prompt_number": 28,
       "text": [
        "[<matplotlib.lines.Line2D at 0x3adce90>]"
       ]
      },
      {
       "metadata": {},
       "output_type": "display_data",
       "png": "[encoded data removed]",
       "text": [
        "<matplotlib.figure.Figure at 0x3ada1d0>"
       ]
      }
     ],
     "prompt_number": 28
    },
    {
     "cell_type": "code",
     "collapsed": false,
     "input": [
      "plt.plot(x, y, 'ro', x, 2*x, 'gx')"
     ],
     "language": "python",
     "metadata": {},
     "outputs": [
      {
       "metadata": {},
       "output_type": "pyout",
       "prompt_number": 32,
       "text": [
        "[<matplotlib.lines.Line2D at 0x401ac10>,\n",
        " <matplotlib.lines.Line2D at 0x401ae10>]"
       ]
      },
      {
       "metadata": {},
       "output_type": "display_data",
       "png": "[encoded data removed]",
       "text": [
        "<matplotlib.figure.Figure at 0x3af0790>"
       ]
      }
     ],
     "prompt_number": 32
    },
    {
     "cell_type": "code",
     "collapsed": false,
     "input": [
      "plt.plot(x, y, 'bo', linewidth=3, markersize=5, markerfacecolor='red',\\\n",
      "         markeredgecolor='green', markeredgewidth=2)"
     ],
     "language": "python",
     "metadata": {},
     "outputs": [
      {
       "metadata": {},
       "output_type": "pyout",
       "prompt_number": 37,
       "text": [
        "[<matplotlib.lines.Line2D at 0x4db2290>]"
       ]
      },
      {
       "metadata": {},
       "output_type": "display_data",
       "png": "[encoded data removed]",
       "text": [
        "<matplotlib.figure.Figure at 0x40e5d50>"
       ]
      }
     ],
     "prompt_number": 37
    },
    {
     "cell_type": "markdown",
     "metadata": {},
     "source": [
      "Existen m\u00faltiples ejemplos de gr\u00e1ficas posibles en python. Como referencias principales se puede consultar:\n",
      "http://matplotlib.org/ y http://www.scipy.org/Cookbook/Matplotlib"
     ]
    },
    {
     "cell_type": "markdown",
     "metadata": {},
     "source": [
      "Tareita: Graficar las funciones trigonom\u00e9tricas seno, coseno y tangente en 3 subfiguras en $-2\\Pi$ hasta 2$\\Pi$ con distintos tipos de colores, efectos y cosas que les parezcan interesantes."
     ]
    },
    {
     "cell_type": "heading",
     "level": 2,
     "metadata": {},
     "source": [
      "N\u00fameros aleatorios."
     ]
    },
    {
     "cell_type": "markdown",
     "metadata": {},
     "source": [
      "`Numpy` posee funciones para generar n\u00fameros aleatorios dentro de la librer\u00eda `random`.\n",
      "http://docs.scipy.org/doc/numpy/reference/routines.random.html"
     ]
    },
    {
     "cell_type": "code",
     "collapsed": false,
     "input": [
      "np.random?"
     ],
     "language": "python",
     "metadata": {},
     "outputs": [],
     "prompt_number": 39
    },
    {
     "cell_type": "code",
     "collapsed": false,
     "input": [
      "np.random.rand?"
     ],
     "language": "python",
     "metadata": {},
     "outputs": [],
     "prompt_number": 40
    },
    {
     "cell_type": "code",
     "collapsed": false,
     "input": [
      "np.random.rand()"
     ],
     "language": "python",
     "metadata": {},
     "outputs": [
      {
       "metadata": {},
       "output_type": "pyout",
       "prompt_number": 42,
       "text": [
        "0.9456078912294559"
       ]
      }
     ],
     "prompt_number": 42
    },
    {
     "cell_type": "code",
     "collapsed": false,
     "input": [
      "np.random.randn?"
     ],
     "language": "python",
     "metadata": {},
     "outputs": [],
     "prompt_number": 45
    },
    {
     "cell_type": "code",
     "collapsed": false,
     "input": [
      "np.random.randn(2,2)"
     ],
     "language": "python",
     "metadata": {},
     "outputs": [
      {
       "metadata": {},
       "output_type": "pyout",
       "prompt_number": 47,
       "text": [
        "array([[ 1.23045489, -0.5011047 ],\n",
        "       [ 0.44187564, -0.44680199]])"
       ]
      }
     ],
     "prompt_number": 47
    },
    {
     "cell_type": "markdown",
     "metadata": {},
     "source": [
      "Tambi\u00e9n existe el m\u00f3dulo llamado `random` que incluye estas funciones, pero la ventaja con numpy es que generamos autom\u00e1ticamente arrays matem\u00e1ticos."
     ]
    },
    {
     "cell_type": "heading",
     "level": 2,
     "metadata": {},
     "source": [
      "Histograma."
     ]
    },
    {
     "cell_type": "markdown",
     "metadata": {},
     "source": [
      "Generaremos un histograma de la distribuci\u00f3n normal est\u00e1ndar."
     ]
    },
    {
     "cell_type": "code",
     "collapsed": false,
     "input": [
      "mu, sigma = 0, 0.1\n",
      "s = np.random.normal(mu, sigma, 10000)"
     ],
     "language": "python",
     "metadata": {},
     "outputs": [],
     "prompt_number": 50
    },
    {
     "cell_type": "code",
     "collapsed": false,
     "input": [
      "plt.hist(s, 30, normed=True);"
     ],
     "language": "python",
     "metadata": {},
     "outputs": [
      {
       "metadata": {},
       "output_type": "display_data",
       "png": "[encoded data removed]",
       "text": [
        "<matplotlib.figure.Figure at 0x4db4ed0>"
       ]
      }
     ],
     "prompt_number": 52
    },
    {
     "cell_type": "markdown",
     "metadata": {},
     "source": [
      "Es mejor llamar la funci\u00f3n como:"
     ]
    },
    {
     "cell_type": "code",
     "collapsed": false,
     "input": [
      "count, bins, ignored = plt.hist(s, 30, normed=True)"
     ],
     "language": "python",
     "metadata": {},
     "outputs": [
      {
       "metadata": {},
       "output_type": "display_data",
       "png": "[encoded data removed]",
       "text": [
        "<matplotlib.figure.Figure at 0x520e850>"
       ]
      }
     ],
     "prompt_number": 56
    },
    {
     "cell_type": "code",
     "collapsed": false,
     "input": [
      "plt.hist?"
     ],
     "language": "python",
     "metadata": {},
     "outputs": [],
     "prompt_number": 54
    },
    {
     "cell_type": "code",
     "collapsed": false,
     "input": [
      "plt.plot(bins, 1/(sigma * np.sqrt(2 * np.pi)) *\\\n",
      "         np.exp( - (bins - mu)**2 / (2 * sigma**2) ), linewidth=2, color='r')"
     ],
     "language": "python",
     "metadata": {},
     "outputs": [
      {
       "metadata": {},
       "output_type": "pyout",
       "prompt_number": 58,
       "text": [
        "[<matplotlib.lines.Line2D at 0x5667f10>]"
       ]
      },
      {
       "metadata": {},
       "output_type": "display_data",
       "png": "[encoded data removed]",
       "text": [
        "<matplotlib.figure.Figure at 0x56cebd0>"
       ]
      }
     ],
     "prompt_number": 58
    },
    {
     "cell_type": "code",
     "collapsed": false,
     "input": [
      "plt.hist(s, 30, normed=True);\n",
      "plt.plot(bins, 1/(sigma * np.sqrt(2 * np.pi)) *\\\n",
      "         np.exp( - (bins - mu)**2 / (2 * sigma**2) ), linewidth=2, color='r')"
     ],
     "language": "python",
     "metadata": {},
     "outputs": [
      {
       "metadata": {},
       "output_type": "pyout",
       "prompt_number": 59,
       "text": [
        "[<matplotlib.lines.Line2D at 0x5656610>]"
       ]
      },
      {
       "metadata": {},
       "output_type": "display_data",
       "png": "[encoded data removed]",
       "text": [
        "<matplotlib.figure.Figure at 0x56568d0>"
       ]
      }
     ],
     "prompt_number": 59
    },
    {
     "cell_type": "markdown",
     "metadata": {},
     "source": [
      "Tareita 2. Dibujar los histogramas de las distribuciones t-Student, Beta y Exponencial ajustando sus densidades."
     ]
    },
    {
     "cell_type": "markdown",
     "metadata": {},
     "source": [
      "Tareita 3. Qu\u00e9 hace la funci\u00f3n np.random.seed()??????"
     ]
    },
    {
     "cell_type": "code",
     "collapsed": false,
     "input": [],
     "language": "python",
     "metadata": {},
     "outputs": []
    }
   ],
   "metadata": {}
  }
 ]
}